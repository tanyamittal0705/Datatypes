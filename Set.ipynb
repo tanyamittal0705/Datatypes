{
 "cells": [
  {
   "cell_type": "markdown",
   "id": "9d6aeee3-cd07-4692-b3c1-4f422f12332e",
   "metadata": {},
   "source": [
    "# Set\n",
    "\n",
    "> Set constructor is set().\n",
    " \n",
    "> Set literal is not available.\n",
    "\n",
    "> Set is unordered set of sequence of elements.\n",
    "\n",
    "> Set doesnot allow duplicate values.\n",
    "    \n",
    "> Set is Mutable(unhashable/changeable).\n",
    "    \n",
    "> Set does not support nested set.\n",
    "    \n",
    "> Set does not allowed mutable datatypes.\n",
    "\n",
    "> Set always contain immutable datatypes(hashable datatype)(int,float,string,tuple)\n",
    "\n",
    "> Set does not support concatination,slicing,indexing.\n",
    "\n",
    "> Set methods.\n",
    "\n",
    ">Set only allowed iterable datatypes like string,tuple.\n",
    "\n",
    ">Set support hashing table to remove duplicacy."
   ]
  },
  {
   "cell_type": "code",
   "execution_count": 1,
   "id": "3a8d187b-1063-4384-8e04-4b5d2fed6e48",
   "metadata": {},
   "outputs": [],
   "source": [
    "a=set()"
   ]
  },
  {
   "cell_type": "code",
   "execution_count": 2,
   "id": "23c0d80c-1893-4209-923d-198af09cc114",
   "metadata": {},
   "outputs": [
    {
     "name": "stdout",
     "output_type": "stream",
     "text": [
      "set()\n"
     ]
    }
   ],
   "source": [
    "print(a)"
   ]
  },
  {
   "cell_type": "code",
   "execution_count": 3,
   "id": "9c5c12ff-7456-43c2-9db3-f80e667cd374",
   "metadata": {},
   "outputs": [],
   "source": [
    "b={1,}"
   ]
  },
  {
   "cell_type": "code",
   "execution_count": 4,
   "id": "ffbaea4d-2e7f-46a7-b67d-f1c40461f89a",
   "metadata": {},
   "outputs": [
    {
     "name": "stdout",
     "output_type": "stream",
     "text": [
      "{1} <class 'set'>\n"
     ]
    }
   ],
   "source": [
    "print(b,type(b))"
   ]
  },
  {
   "cell_type": "code",
   "execution_count": 5,
   "id": "3c46c521-f200-4466-8538-1678a32d83ac",
   "metadata": {},
   "outputs": [],
   "source": [
    "c={1,1,1,1,2,3,3,4,5,6,6}         #remove duplicate values"
   ]
  },
  {
   "cell_type": "code",
   "execution_count": 6,
   "id": "8d4d409c-f6ad-4786-b21e-223ec8518a6f",
   "metadata": {},
   "outputs": [
    {
     "name": "stdout",
     "output_type": "stream",
     "text": [
      "{1, 2, 3, 4, 5, 6}\n"
     ]
    }
   ],
   "source": [
    "print(c)"
   ]
  },
  {
   "cell_type": "code",
   "execution_count": 9,
   "id": "e813fe07-585f-4e74-b32f-528614d04ff2",
   "metadata": {},
   "outputs": [],
   "source": [
    "d={5,6,7,8,9,10}"
   ]
  },
  {
   "cell_type": "code",
   "execution_count": 10,
   "id": "16075bf0-07d3-4078-9d73-fae6a1756a86",
   "metadata": {},
   "outputs": [
    {
     "name": "stdout",
     "output_type": "stream",
     "text": [
      "{1, 2, 3, 4}\n"
     ]
    }
   ],
   "source": [
    "print(c-d)"
   ]
  },
  {
   "cell_type": "code",
   "execution_count": 11,
   "id": "533e5a3c-105b-458d-ba80-5d030a425a7f",
   "metadata": {},
   "outputs": [
    {
     "name": "stdout",
     "output_type": "stream",
     "text": [
      "{8, 9, 10, 7}\n"
     ]
    }
   ],
   "source": [
    "print(d-c)"
   ]
  },
  {
   "cell_type": "code",
   "execution_count": 5,
   "id": "8aed8ec2-0fb2-46e2-ae98-874b5118d72c",
   "metadata": {},
   "outputs": [],
   "source": [
    "a={1,2,3,4,5}"
   ]
  },
  {
   "cell_type": "code",
   "execution_count": 6,
   "id": "2bad5f1b-b3a0-4dde-aaff-5b2aad54974a",
   "metadata": {},
   "outputs": [
    {
     "ename": "TypeError",
     "evalue": "'set' object is not subscriptable",
     "output_type": "error",
     "traceback": [
      "\u001b[1;31m---------------------------------------------------------------------------\u001b[0m",
      "\u001b[1;31mTypeError\u001b[0m                                 Traceback (most recent call last)",
      "Cell \u001b[1;32mIn[6], line 1\u001b[0m\n\u001b[1;32m----> 1\u001b[0m \u001b[43ma\u001b[49m\u001b[43m[\u001b[49m\u001b[38;5;241;43m0\u001b[39;49m\u001b[43m]\u001b[49m\n",
      "\u001b[1;31mTypeError\u001b[0m: 'set' object is not subscriptable"
     ]
    }
   ],
   "source": [
    "a[0]         #Set does not support indexing/slicing"
   ]
  },
  {
   "cell_type": "code",
   "execution_count": 7,
   "id": "6aa1eff3-75fb-4aa2-a5a5-0e234a3b7cab",
   "metadata": {},
   "outputs": [
    {
     "ename": "TypeError",
     "evalue": "unhashable type: 'list'",
     "output_type": "error",
     "traceback": [
      "\u001b[1;31m---------------------------------------------------------------------------\u001b[0m",
      "\u001b[1;31mTypeError\u001b[0m                                 Traceback (most recent call last)",
      "Cell \u001b[1;32mIn[7], line 1\u001b[0m\n\u001b[1;32m----> 1\u001b[0m \u001b[38;5;28mprint\u001b[39m({[\u001b[38;5;241m1\u001b[39m,\u001b[38;5;241m2\u001b[39m,\u001b[38;5;241m3\u001b[39m,\u001b[38;5;241m4\u001b[39m]})\n",
      "\u001b[1;31mTypeError\u001b[0m: unhashable type: 'list'"
     ]
    }
   ],
   "source": [
    "print({[1,2,3,4]})"
   ]
  },
  {
   "cell_type": "code",
   "execution_count": 8,
   "id": "2021f3f4-2107-4c85-8144-7fcdac6d2f0c",
   "metadata": {},
   "outputs": [
    {
     "name": "stdout",
     "output_type": "stream",
     "text": [
      "{'Tanya'}\n"
     ]
    }
   ],
   "source": [
    "print({\"Tanya\"})"
   ]
  },
  {
   "cell_type": "markdown",
   "id": "6c42aa04-6ceb-4fc6-8bdd-9439d90f331a",
   "metadata": {},
   "source": [
    "# Methods"
   ]
  },
  {
   "cell_type": "code",
   "execution_count": 14,
   "id": "1470ed62-ab09-4a23-830b-2f8d84c52ddf",
   "metadata": {},
   "outputs": [],
   "source": [
    "a.add(6)"
   ]
  },
  {
   "cell_type": "code",
   "execution_count": 15,
   "id": "2f8780b2-bf21-476e-8f10-bc40808e718f",
   "metadata": {},
   "outputs": [
    {
     "name": "stdout",
     "output_type": "stream",
     "text": [
      "{6}\n"
     ]
    }
   ],
   "source": [
    "print(a)"
   ]
  },
  {
   "cell_type": "code",
   "execution_count": 16,
   "id": "b9234684-0e21-43b0-9d69-5afd73813114",
   "metadata": {},
   "outputs": [],
   "source": [
    "b.clear()"
   ]
  },
  {
   "cell_type": "code",
   "execution_count": 17,
   "id": "94cdd52c-3966-4972-a650-001e3d61ba1d",
   "metadata": {},
   "outputs": [
    {
     "name": "stdout",
     "output_type": "stream",
     "text": [
      "set()\n"
     ]
    }
   ],
   "source": [
    "print(b)"
   ]
  },
  {
   "cell_type": "code",
   "execution_count": 21,
   "id": "6b9cbd4f-263f-4463-af53-c7f8f34ee2ae",
   "metadata": {},
   "outputs": [
    {
     "data": {
      "text/plain": [
       "{1, 2, 3, 4, 5, 6}"
      ]
     },
     "execution_count": 21,
     "metadata": {},
     "output_type": "execute_result"
    }
   ],
   "source": [
    "c.copy()"
   ]
  },
  {
   "cell_type": "code",
   "execution_count": 22,
   "id": "cffabda8-0b66-4068-adca-b9f2550e6ab5",
   "metadata": {},
   "outputs": [
    {
     "data": {
      "text/plain": [
       "{1, 2, 3, 4}"
      ]
     },
     "execution_count": 22,
     "metadata": {},
     "output_type": "execute_result"
    }
   ],
   "source": [
    "c.difference(d)"
   ]
  },
  {
   "cell_type": "code",
   "execution_count": 27,
   "id": "d011ab92-75f5-41ab-a026-b7c06b360c50",
   "metadata": {},
   "outputs": [],
   "source": [
    "c.difference_update(d)   "
   ]
  },
  {
   "cell_type": "code",
   "execution_count": 29,
   "id": "ea33dd30-3fd9-4a99-a280-81af46ede294",
   "metadata": {},
   "outputs": [
    {
     "name": "stdout",
     "output_type": "stream",
     "text": [
      "{1, 2, 3, 4}\n"
     ]
    }
   ],
   "source": [
    "print(c)"
   ]
  },
  {
   "cell_type": "code",
   "execution_count": 12,
   "id": "e862b11b-4a00-4c02-b30b-c14511b2ac61",
   "metadata": {},
   "outputs": [],
   "source": [
    "a={1,2,3,4,5}\n",
    "b={5,6,7,8,9}"
   ]
  },
  {
   "cell_type": "code",
   "execution_count": 13,
   "id": "29455398-6dbe-4e05-bf85-ed6d3c8a59ec",
   "metadata": {},
   "outputs": [
    {
     "data": {
      "text/plain": [
       "{1, 2, 3, 4, 5, 6, 7, 8, 9}"
      ]
     },
     "execution_count": 13,
     "metadata": {},
     "output_type": "execute_result"
    }
   ],
   "source": [
    "a.union(b)"
   ]
  },
  {
   "cell_type": "code",
   "execution_count": 14,
   "id": "e6271e74-1762-4c9e-8a1a-84f95683bd2a",
   "metadata": {},
   "outputs": [
    {
     "data": {
      "text/plain": [
       "{5}"
      ]
     },
     "execution_count": 14,
     "metadata": {},
     "output_type": "execute_result"
    }
   ],
   "source": [
    "a.intersection(b)"
   ]
  },
  {
   "cell_type": "code",
   "execution_count": 15,
   "id": "7323310a-e3b7-49bd-a8f6-ac31d976868a",
   "metadata": {},
   "outputs": [],
   "source": [
    "a.intersection_update(b)"
   ]
  },
  {
   "cell_type": "code",
   "execution_count": 16,
   "id": "ce60c63b-a2c6-4c92-9664-8db63fd68284",
   "metadata": {},
   "outputs": [
    {
     "name": "stdout",
     "output_type": "stream",
     "text": [
      "{5}\n"
     ]
    }
   ],
   "source": [
    "print(a)"
   ]
  },
  {
   "cell_type": "code",
   "execution_count": 26,
   "id": "e30a14b6-7b86-4593-99ff-398120007bca",
   "metadata": {},
   "outputs": [],
   "source": [
    "a.discard(4)"
   ]
  },
  {
   "cell_type": "code",
   "execution_count": 27,
   "id": "739fef20-7a2e-4496-93e9-5a2c715659c0",
   "metadata": {},
   "outputs": [
    {
     "data": {
      "text/plain": [
       "{1, 2, 3, 5, 6, 7}"
      ]
     },
     "execution_count": 27,
     "metadata": {},
     "output_type": "execute_result"
    }
   ],
   "source": [
    "a"
   ]
  },
  {
   "cell_type": "code",
   "execution_count": 28,
   "id": "ca7d7a2e-2746-4beb-81f9-c94c7ae0112e",
   "metadata": {},
   "outputs": [],
   "source": [
    "a.update([1,2,3,4,5,6,7])"
   ]
  },
  {
   "cell_type": "code",
   "execution_count": 29,
   "id": "cd64f6f5-0218-40df-94a0-527d2ecba89d",
   "metadata": {},
   "outputs": [
    {
     "data": {
      "text/plain": [
       "{1, 2, 3, 4, 5, 6, 7}"
      ]
     },
     "execution_count": 29,
     "metadata": {},
     "output_type": "execute_result"
    }
   ],
   "source": [
    "a"
   ]
  },
  {
   "cell_type": "code",
   "execution_count": 30,
   "id": "10994c85-79d0-4660-a98f-efcad996ac8e",
   "metadata": {},
   "outputs": [
    {
     "data": {
      "text/plain": [
       "False"
      ]
     },
     "execution_count": 30,
     "metadata": {},
     "output_type": "execute_result"
    }
   ],
   "source": [
    "a.isdisjoint(b)"
   ]
  },
  {
   "cell_type": "code",
   "execution_count": 31,
   "id": "889050f6-8492-4fa6-af03-fbc8a9a8323f",
   "metadata": {},
   "outputs": [
    {
     "data": {
      "text/plain": [
       "False"
      ]
     },
     "execution_count": 31,
     "metadata": {},
     "output_type": "execute_result"
    }
   ],
   "source": [
    "b.issubset(a)"
   ]
  },
  {
   "cell_type": "code",
   "execution_count": 32,
   "id": "ade83a82-c546-4994-9980-1f1b9fdcc885",
   "metadata": {},
   "outputs": [
    {
     "data": {
      "text/plain": [
       "False"
      ]
     },
     "execution_count": 32,
     "metadata": {},
     "output_type": "execute_result"
    }
   ],
   "source": [
    "a.issubset(b)"
   ]
  },
  {
   "cell_type": "code",
   "execution_count": 33,
   "id": "c66e44dd-7181-469a-b5f4-b6eb5f401806",
   "metadata": {},
   "outputs": [
    {
     "data": {
      "text/plain": [
       "False"
      ]
     },
     "execution_count": 33,
     "metadata": {},
     "output_type": "execute_result"
    }
   ],
   "source": [
    "a.issuperset(b)"
   ]
  },
  {
   "cell_type": "code",
   "execution_count": 34,
   "id": "5be5ed35-b6c0-4135-833b-ab95ddd6af5a",
   "metadata": {},
   "outputs": [
    {
     "data": {
      "text/plain": [
       "1"
      ]
     },
     "execution_count": 34,
     "metadata": {},
     "output_type": "execute_result"
    }
   ],
   "source": [
    "a.pop()"
   ]
  },
  {
   "cell_type": "code",
   "execution_count": 39,
   "id": "c3d7a16b-6aa8-429e-adcc-de8c5aa20581",
   "metadata": {},
   "outputs": [],
   "source": [
    "a.remove(7)"
   ]
  },
  {
   "cell_type": "code",
   "execution_count": 40,
   "id": "4ba42f60-2fda-43b5-83fc-be70883f46a2",
   "metadata": {},
   "outputs": [
    {
     "data": {
      "text/plain": [
       "{2, 4, 5, 6}"
      ]
     },
     "execution_count": 40,
     "metadata": {},
     "output_type": "execute_result"
    }
   ],
   "source": [
    "a"
   ]
  },
  {
   "cell_type": "code",
   "execution_count": 41,
   "id": "c8e4bb8a-d333-46d9-92f8-6458d32af41f",
   "metadata": {},
   "outputs": [
    {
     "data": {
      "text/plain": [
       "{2, 4, 7, 8, 9}"
      ]
     },
     "execution_count": 41,
     "metadata": {},
     "output_type": "execute_result"
    }
   ],
   "source": [
    "a.symmetric_difference(b)"
   ]
  },
  {
   "cell_type": "code",
   "execution_count": 42,
   "id": "bac289dd-2be8-4952-9d81-ea32fc07f2f6",
   "metadata": {},
   "outputs": [],
   "source": [
    "a.symmetric_difference_update(b)"
   ]
  },
  {
   "cell_type": "code",
   "execution_count": 43,
   "id": "2db7af25-7cfa-437a-aaf4-73b4df32f5ad",
   "metadata": {},
   "outputs": [
    {
     "name": "stdout",
     "output_type": "stream",
     "text": [
      "{2, 4, 7, 8, 9}\n"
     ]
    }
   ],
   "source": [
    "print(a)"
   ]
  }
 ],
 "metadata": {
  "kernelspec": {
   "display_name": "Python 3 (ipykernel)",
   "language": "python",
   "name": "python3"
  },
  "language_info": {
   "codemirror_mode": {
    "name": "ipython",
    "version": 3
   },
   "file_extension": ".py",
   "mimetype": "text/x-python",
   "name": "python",
   "nbconvert_exporter": "python",
   "pygments_lexer": "ipython3",
   "version": "3.11.5"
  }
 },
 "nbformat": 4,
 "nbformat_minor": 5
}
